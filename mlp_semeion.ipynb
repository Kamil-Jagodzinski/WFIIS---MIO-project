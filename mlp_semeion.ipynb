{
 "cells": [
  {
   "cell_type": "markdown",
   "metadata": {},
   "source": [
    "- Import potrzebnych bibliotek i funkcji\n",
    "- ustawienie ściezki do pliku\n",
    "- ustawienie rozmiaru wczytanych danych "
   ]
  },
  {
   "cell_type": "code",
   "execution_count": null,
   "metadata": {},
   "outputs": [],
   "source": [
    "import numpy as np\n",
    "from matplotlib import pyplot as pl\n",
    "from keras.layers import Dense, Flatten\n",
    "from keras.models import Sequential\n",
    "from sklearn.model_selection import train_test_split\n",
    "\n",
    "data_path = \"datasets/semeion.data\"\n",
    "x_size, y_size = 16, 16\n",
    "ovr_size = x_size * y_size"
   ]
  },
  {
   "cell_type": "markdown",
   "metadata": {},
   "source": [
    "- Wczytanie danych z pliku\n",
    "- Sformatowanie danych do postaci umożliwiajjącej korzystanie z Sekwencyjnego API Keras"
   ]
  },
  {
   "cell_type": "code",
   "execution_count": null,
   "metadata": {},
   "outputs": [],
   "source": [
    "with open(data_path, 'r') as dataset:\n",
    "    data = [ line.split() for line in dataset ]\n",
    "\n",
    "X, Y = [], []\n",
    "\n",
    "for d in data:\n",
    "    X.append( np.reshape( list( np.float_(d[:ovr_size]) ) , (x_size, y_size)) )\n",
    "    Y.append( d[-10:].index('1') )\n",
    "\n",
    "X_train, X_test, Y_train, Y_test = train_test_split(X, Y, test_size = 0.1)\n",
    "X_train = np.array(X_train)\n",
    "X_test = np.array(X_test)\n",
    "Y_train = np.array(Y_train)\n",
    "Y_test = np.array(Y_test)\n",
    "print(len(X_train))\n",
    "\n"
   ]
  },
  {
   "cell_type": "code",
   "execution_count": null,
   "metadata": {},
   "outputs": [],
   "source": [
    "mlp = Sequential([\n",
    "                    Flatten(input_shape=(x_size, y_size)),\n",
    "                    Dense(200, activation='relu'),\n",
    "                    Dense(50, activation='relu'),\n",
    "                    Dense(10, activation='softmax')\n",
    "                ])\n",
    "\n",
    "mlp.compile(optimizer='adam', loss='sparse_categorical_crossentropy', metrics=['accuracy'])\n",
    "\n"
   ]
  },
  {
   "cell_type": "code",
   "execution_count": null,
   "metadata": {},
   "outputs": [],
   "source": [
    "\n",
    "history = mlp.fit(X_train, Y_train,  validation_split=0.15, epochs=450)\n",
    "result = mlp.evaluate(X_test, Y_test, verbose=0)\n",
    "\n",
    "pl.plot(history.history['accuracy'])\n",
    "pl.plot(history.history['val_accuracy'])\n",
    "pl.title('model accuracy')\n",
    "pl.ylabel('accuracy')\n",
    "pl.xlabel('epoch')\n",
    "pl.legend(['train', 'validation'])\n",
    "pl.show()\n",
    "# summarize history for loss\n",
    "pl.plot(history.history['loss'])\n",
    "pl.plot(history.history['val_loss'])\n",
    "pl.title('model loss')\n",
    "pl.ylabel('loss')\n",
    "pl.xlabel('epoch')\n",
    "pl.legend(['train', 'validation'])\n",
    "pl.show()\n",
    "\n",
    "print('test loss, test acc: ', result)"
   ]
  }
 ],
 "metadata": {
  "interpreter": {
   "hash": "369f2c481f4da34e4445cda3fffd2e751bd1c4d706f27375911949ba6bb62e1c"
  },
  "kernelspec": {
   "display_name": "Python 3.10.4 64-bit",
   "language": "python",
   "name": "python3"
  },
  "language_info": {
   "codemirror_mode": {
    "name": "ipython",
    "version": 3
   },
   "file_extension": ".py",
   "mimetype": "text/x-python",
   "name": "python",
   "nbconvert_exporter": "python",
   "pygments_lexer": "ipython3",
   "version": "3.10.4"
  },
  "orig_nbformat": 4
 },
 "nbformat": 4,
 "nbformat_minor": 2
}
