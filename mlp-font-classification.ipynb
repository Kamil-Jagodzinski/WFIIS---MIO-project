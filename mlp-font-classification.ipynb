{
 "cells": [
  {
   "cell_type": "code",
   "execution_count": 128,
   "metadata": {},
   "outputs": [],
   "source": [
    "import numpy as np\n",
    "import pandas as pd\n",
    "from matplotlib import pyplot as plt\n",
    "from keras.layers import Dense, Flatten, Normalization\n",
    "from keras.models import Sequential\n",
    "from sklearn.model_selection import train_test_split\n",
    "import tensorflow_addons as tfa\n",
    "from keras.optimizers import SGD\n"
   ]
  },
  {
   "cell_type": "code",
   "execution_count": 129,
   "metadata": {},
   "outputs": [],
   "source": [
    "\n",
    "arial = pd.read_csv('datasets/ARIAL.csv')\n",
    "agency = pd.read_csv('datasets/AGENCY.csv')\n",
    "baiti = pd.read_csv('datasets/BAITI.csv')\n",
    "# arial = pd.read_csv('ARIAL.csv')\n"
   ]
  },
  {
   "cell_type": "markdown",
   "metadata": {},
   "source": [
    "Data filtration (choosing letters only)"
   ]
  },
  {
   "cell_type": "code",
   "execution_count": 130,
   "metadata": {},
   "outputs": [],
   "source": [
    "def isletter(letter):\n",
    "    return chr(letter).isalpha()\n",
    "\n",
    "letters_arial = arial[arial['m_label'].apply(isletter)]\n",
    "letters_agency = agency[agency['m_label'].apply(isletter)]\n",
    "letters_baiti = baiti[baiti['m_label'].apply(isletter)]"
   ]
  },
  {
   "cell_type": "code",
   "execution_count": 131,
   "metadata": {},
   "outputs": [],
   "source": [
    "X1 = letters_arial.loc[:, \"r0c0\":].to_numpy()\n",
    "indices = np.arange(X1.shape[0])\n",
    "indices = np.random.choice(indices, size=600)\n",
    "X1 = X1[indices]\n",
    "\n",
    "X = np.concatenate((X1))\n",
    "\n",
    "X2 = letters_agency.loc[:, \"r0c0\":].to_numpy()\n",
    "\n",
    "X3 = letters_baiti.loc[:, \"r0c0\":].to_numpy()\n",
    "indices_x3 = np.arange(X3.shape[0])\n",
    "indices_x3 = np.random.choice(indices_x3, size=600)\n",
    "X3 = X3[indices_x3]\n",
    "\n",
    "X = np.concatenate((X1, X2, X3))\n",
    "\n",
    "# len(X1), len(X2), len(X3) "
   ]
  },
  {
   "cell_type": "code",
   "execution_count": 132,
   "metadata": {},
   "outputs": [],
   "source": [
    "fonts = ['arial', 'agency', 'baiti']\n",
    "\n",
    "y = np.concatenate((\n",
    "    np.full(X1.shape[0], 0),\n",
    "    np.full(X2.shape[0], 1),\n",
    "    np.full(X3.shape[0], 2)\n",
    "))\n",
    "\n",
    "# y = np.full(X1.shape[0], 0)"
   ]
  },
  {
   "cell_type": "markdown",
   "metadata": {},
   "source": [
    "Shuffling the dataset"
   ]
  },
  {
   "cell_type": "code",
   "execution_count": 133,
   "metadata": {},
   "outputs": [],
   "source": [
    "indices = np.arange(y.shape[0])\n",
    "np.random.shuffle(indices)\n",
    "\n",
    "X = X[indices]\n",
    "y = y[indices]"
   ]
  },
  {
   "cell_type": "markdown",
   "metadata": {},
   "source": [
    "## Doing stuff"
   ]
  },
  {
   "cell_type": "code",
   "execution_count": 134,
   "metadata": {},
   "outputs": [],
   "source": [
    "X_train, X_test, y_train, y_test = train_test_split(X, y, test_size=0.2)"
   ]
  },
  {
   "cell_type": "code",
   "execution_count": 135,
   "metadata": {},
   "outputs": [],
   "source": [
    "mlp = Sequential([\n",
    "    Dense(200, activation='relu'),\n",
    "    Dense(200, activation='relu'),\n",
    "    Dense(50, activation='relu'),\n",
    "    Dense(3, activation='softmax')\n",
    "])\n",
    "\n",
    "mlp.compile(optimizer='adam', loss='sparse_categorical_crossentropy', metrics=['accuracy'])\n"
   ]
  },
  {
   "cell_type": "code",
   "execution_count": 136,
   "metadata": {},
   "outputs": [
    {
     "name": "stdout",
     "output_type": "stream",
     "text": [
      "Epoch 1/100\n",
      "38/38 [==============================] - 1s 17ms/step - loss: 30.8283 - accuracy: 0.4579 - val_loss: 7.0324 - val_accuracy: 0.5190\n",
      "Epoch 2/100\n",
      "38/38 [==============================] - 0s 7ms/step - loss: 4.1687 - accuracy: 0.6423 - val_loss: 4.0450 - val_accuracy: 0.6857\n",
      "Epoch 3/100\n",
      "38/38 [==============================] - 0s 8ms/step - loss: 2.5854 - accuracy: 0.7416 - val_loss: 3.6491 - val_accuracy: 0.6333\n",
      "Epoch 4/100\n",
      "38/38 [==============================] - 0s 7ms/step - loss: 1.4908 - accuracy: 0.7963 - val_loss: 3.3906 - val_accuracy: 0.6810\n",
      "Epoch 5/100\n",
      "38/38 [==============================] - 0s 8ms/step - loss: 0.8904 - accuracy: 0.8535 - val_loss: 2.5045 - val_accuracy: 0.7048\n",
      "Epoch 6/100\n",
      "38/38 [==============================] - 0s 8ms/step - loss: 0.9380 - accuracy: 0.8544 - val_loss: 2.2231 - val_accuracy: 0.7524\n",
      "Epoch 7/100\n",
      "38/38 [==============================] - 0s 8ms/step - loss: 0.7840 - accuracy: 0.8636 - val_loss: 2.2074 - val_accuracy: 0.7381\n",
      "Epoch 8/100\n",
      "38/38 [==============================] - 0s 6ms/step - loss: 0.8500 - accuracy: 0.8561 - val_loss: 3.2250 - val_accuracy: 0.6952\n",
      "Epoch 9/100\n",
      "38/38 [==============================] - 0s 6ms/step - loss: 0.6064 - accuracy: 0.8990 - val_loss: 2.5140 - val_accuracy: 0.7095\n",
      "Epoch 10/100\n",
      "38/38 [==============================] - 0s 7ms/step - loss: 0.4301 - accuracy: 0.9091 - val_loss: 2.4006 - val_accuracy: 0.7190\n",
      "Epoch 11/100\n",
      "38/38 [==============================] - 0s 7ms/step - loss: 0.2893 - accuracy: 0.9301 - val_loss: 2.2616 - val_accuracy: 0.7333\n",
      "Epoch 12/100\n",
      "38/38 [==============================] - 0s 9ms/step - loss: 0.1399 - accuracy: 0.9663 - val_loss: 2.2945 - val_accuracy: 0.7429\n",
      "Epoch 13/100\n",
      "38/38 [==============================] - 0s 9ms/step - loss: 0.1677 - accuracy: 0.9621 - val_loss: 2.2791 - val_accuracy: 0.7238\n",
      "Epoch 14/100\n",
      "38/38 [==============================] - 0s 9ms/step - loss: 0.0821 - accuracy: 0.9747 - val_loss: 2.1306 - val_accuracy: 0.7238\n",
      "Epoch 15/100\n",
      "38/38 [==============================] - 0s 12ms/step - loss: 0.0649 - accuracy: 0.9823 - val_loss: 2.6592 - val_accuracy: 0.7238\n",
      "Epoch 16/100\n",
      "38/38 [==============================] - 0s 6ms/step - loss: 0.0698 - accuracy: 0.9773 - val_loss: 2.3929 - val_accuracy: 0.7143\n",
      "Epoch 17/100\n",
      "38/38 [==============================] - 0s 12ms/step - loss: 0.1215 - accuracy: 0.9714 - val_loss: 2.3419 - val_accuracy: 0.7333\n",
      "Epoch 18/100\n",
      "38/38 [==============================] - 0s 13ms/step - loss: 0.0951 - accuracy: 0.9756 - val_loss: 2.5400 - val_accuracy: 0.7238\n",
      "Epoch 19/100\n",
      "38/38 [==============================] - 1s 15ms/step - loss: 0.0916 - accuracy: 0.9773 - val_loss: 2.0598 - val_accuracy: 0.7286\n",
      "Epoch 20/100\n",
      "38/38 [==============================] - 1s 15ms/step - loss: 0.0771 - accuracy: 0.9747 - val_loss: 2.1351 - val_accuracy: 0.7381\n",
      "Epoch 21/100\n",
      "38/38 [==============================] - 1s 15ms/step - loss: 0.0923 - accuracy: 0.9739 - val_loss: 2.0294 - val_accuracy: 0.7286\n",
      "Epoch 22/100\n",
      "38/38 [==============================] - 0s 11ms/step - loss: 0.1085 - accuracy: 0.9731 - val_loss: 2.0712 - val_accuracy: 0.7429\n",
      "Epoch 23/100\n",
      "38/38 [==============================] - 0s 11ms/step - loss: 0.1586 - accuracy: 0.9722 - val_loss: 2.9117 - val_accuracy: 0.6905\n",
      "Epoch 24/100\n",
      "38/38 [==============================] - 0s 8ms/step - loss: 0.5905 - accuracy: 0.9099 - val_loss: 2.6842 - val_accuracy: 0.7095\n",
      "Epoch 25/100\n",
      "38/38 [==============================] - 0s 6ms/step - loss: 0.3834 - accuracy: 0.9259 - val_loss: 2.5006 - val_accuracy: 0.7714\n",
      "Epoch 26/100\n",
      "38/38 [==============================] - 0s 5ms/step - loss: 0.9257 - accuracy: 0.8771 - val_loss: 2.4347 - val_accuracy: 0.6952\n",
      "Epoch 27/100\n",
      "38/38 [==============================] - 0s 6ms/step - loss: 0.7477 - accuracy: 0.8813 - val_loss: 1.8011 - val_accuracy: 0.7714\n",
      "Epoch 28/100\n",
      "38/38 [==============================] - 0s 6ms/step - loss: 0.6821 - accuracy: 0.8880 - val_loss: 1.9145 - val_accuracy: 0.7524\n",
      "Epoch 29/100\n",
      "38/38 [==============================] - 0s 7ms/step - loss: 0.7330 - accuracy: 0.8695 - val_loss: 1.9409 - val_accuracy: 0.7429\n",
      "Epoch 30/100\n",
      "38/38 [==============================] - 0s 5ms/step - loss: 0.2883 - accuracy: 0.9402 - val_loss: 1.9522 - val_accuracy: 0.7429\n",
      "Epoch 31/100\n",
      "38/38 [==============================] - 0s 8ms/step - loss: 0.1342 - accuracy: 0.9621 - val_loss: 1.9666 - val_accuracy: 0.7190\n",
      "Epoch 32/100\n",
      "38/38 [==============================] - 0s 5ms/step - loss: 0.0878 - accuracy: 0.9781 - val_loss: 1.6828 - val_accuracy: 0.7667\n",
      "Epoch 33/100\n",
      "38/38 [==============================] - 0s 5ms/step - loss: 0.0497 - accuracy: 0.9815 - val_loss: 1.4868 - val_accuracy: 0.7762\n",
      "Epoch 34/100\n",
      "38/38 [==============================] - 0s 7ms/step - loss: 0.0539 - accuracy: 0.9806 - val_loss: 1.6691 - val_accuracy: 0.7857\n",
      "Epoch 35/100\n",
      "38/38 [==============================] - 0s 6ms/step - loss: 0.0479 - accuracy: 0.9840 - val_loss: 1.8136 - val_accuracy: 0.7476\n",
      "Epoch 36/100\n",
      "38/38 [==============================] - 0s 10ms/step - loss: 0.0234 - accuracy: 0.9916 - val_loss: 1.6568 - val_accuracy: 0.7714\n",
      "Epoch 37/100\n",
      "38/38 [==============================] - 0s 6ms/step - loss: 0.0194 - accuracy: 0.9924 - val_loss: 1.5076 - val_accuracy: 0.7762\n",
      "Epoch 38/100\n",
      "38/38 [==============================] - 0s 6ms/step - loss: 0.0092 - accuracy: 0.9949 - val_loss: 1.5132 - val_accuracy: 0.7762\n",
      "Epoch 39/100\n",
      "38/38 [==============================] - 0s 5ms/step - loss: 0.0144 - accuracy: 0.9949 - val_loss: 1.7213 - val_accuracy: 0.7905\n",
      "Epoch 40/100\n",
      "38/38 [==============================] - 0s 5ms/step - loss: 0.1084 - accuracy: 0.9798 - val_loss: 1.6910 - val_accuracy: 0.7952\n",
      "Epoch 41/100\n",
      "38/38 [==============================] - 0s 5ms/step - loss: 0.0496 - accuracy: 0.9874 - val_loss: 1.5206 - val_accuracy: 0.7857\n",
      "Epoch 42/100\n",
      "38/38 [==============================] - 0s 5ms/step - loss: 0.0543 - accuracy: 0.9823 - val_loss: 1.9487 - val_accuracy: 0.7810\n",
      "Epoch 43/100\n",
      "38/38 [==============================] - 0s 5ms/step - loss: 0.0378 - accuracy: 0.9865 - val_loss: 1.6469 - val_accuracy: 0.7333\n",
      "Epoch 44/100\n",
      "38/38 [==============================] - 0s 5ms/step - loss: 0.0420 - accuracy: 0.9882 - val_loss: 1.8597 - val_accuracy: 0.7571\n",
      "Epoch 45/100\n",
      "38/38 [==============================] - 0s 6ms/step - loss: 0.0671 - accuracy: 0.9874 - val_loss: 1.5826 - val_accuracy: 0.8000\n",
      "Epoch 46/100\n",
      "38/38 [==============================] - 0s 8ms/step - loss: 0.0649 - accuracy: 0.9840 - val_loss: 1.7723 - val_accuracy: 0.8000\n",
      "Epoch 47/100\n",
      "38/38 [==============================] - 0s 8ms/step - loss: 0.1175 - accuracy: 0.9773 - val_loss: 1.7323 - val_accuracy: 0.7524\n",
      "Epoch 48/100\n",
      "38/38 [==============================] - 0s 9ms/step - loss: 0.0355 - accuracy: 0.9848 - val_loss: 1.7042 - val_accuracy: 0.7190\n",
      "Epoch 49/100\n",
      "38/38 [==============================] - 0s 5ms/step - loss: 0.0402 - accuracy: 0.9874 - val_loss: 1.4917 - val_accuracy: 0.7714\n",
      "Epoch 50/100\n",
      "38/38 [==============================] - 0s 6ms/step - loss: 0.0350 - accuracy: 0.9891 - val_loss: 1.5819 - val_accuracy: 0.7619\n",
      "Epoch 51/100\n",
      "38/38 [==============================] - 0s 9ms/step - loss: 0.0273 - accuracy: 0.9916 - val_loss: 1.6577 - val_accuracy: 0.7524\n",
      "Epoch 52/100\n",
      "38/38 [==============================] - 0s 5ms/step - loss: 0.0776 - accuracy: 0.9840 - val_loss: 1.5787 - val_accuracy: 0.7571\n",
      "Epoch 53/100\n",
      "38/38 [==============================] - 0s 6ms/step - loss: 0.0700 - accuracy: 0.9806 - val_loss: 1.6340 - val_accuracy: 0.8238\n",
      "Epoch 54/100\n",
      "38/38 [==============================] - 0s 6ms/step - loss: 0.1139 - accuracy: 0.9790 - val_loss: 1.5844 - val_accuracy: 0.7857\n",
      "Epoch 55/100\n",
      "38/38 [==============================] - 0s 5ms/step - loss: 0.2481 - accuracy: 0.9554 - val_loss: 1.8395 - val_accuracy: 0.7667\n",
      "Epoch 56/100\n",
      "38/38 [==============================] - 0s 10ms/step - loss: 0.2056 - accuracy: 0.9545 - val_loss: 2.0214 - val_accuracy: 0.7714\n",
      "Epoch 57/100\n",
      "38/38 [==============================] - 0s 7ms/step - loss: 0.1378 - accuracy: 0.9697 - val_loss: 1.4318 - val_accuracy: 0.7905\n",
      "Epoch 58/100\n",
      "38/38 [==============================] - 0s 10ms/step - loss: 0.1162 - accuracy: 0.9705 - val_loss: 1.7367 - val_accuracy: 0.7810\n",
      "Epoch 59/100\n",
      "38/38 [==============================] - 0s 10ms/step - loss: 0.1394 - accuracy: 0.9646 - val_loss: 1.8845 - val_accuracy: 0.7667\n",
      "Epoch 60/100\n",
      "38/38 [==============================] - 0s 8ms/step - loss: 0.1203 - accuracy: 0.9680 - val_loss: 1.8439 - val_accuracy: 0.7476\n",
      "Epoch 61/100\n",
      "38/38 [==============================] - 0s 9ms/step - loss: 0.1830 - accuracy: 0.9613 - val_loss: 1.7818 - val_accuracy: 0.7333\n",
      "Epoch 62/100\n",
      "38/38 [==============================] - 0s 9ms/step - loss: 0.2073 - accuracy: 0.9386 - val_loss: 2.0027 - val_accuracy: 0.7571\n",
      "Epoch 63/100\n",
      "38/38 [==============================] - 0s 11ms/step - loss: 0.2850 - accuracy: 0.9394 - val_loss: 1.7974 - val_accuracy: 0.7619\n",
      "Epoch 64/100\n",
      "38/38 [==============================] - 0s 10ms/step - loss: 0.7651 - accuracy: 0.8569 - val_loss: 2.5198 - val_accuracy: 0.7333\n",
      "Epoch 65/100\n",
      "38/38 [==============================] - 0s 11ms/step - loss: 0.3893 - accuracy: 0.9066 - val_loss: 1.4646 - val_accuracy: 0.7667\n",
      "Epoch 66/100\n",
      "38/38 [==============================] - 1s 14ms/step - loss: 0.5162 - accuracy: 0.8948 - val_loss: 1.2736 - val_accuracy: 0.7571\n",
      "Epoch 67/100\n",
      "38/38 [==============================] - 0s 10ms/step - loss: 0.3581 - accuracy: 0.9226 - val_loss: 1.6160 - val_accuracy: 0.7714\n",
      "Epoch 68/100\n",
      "38/38 [==============================] - 0s 6ms/step - loss: 0.2288 - accuracy: 0.9444 - val_loss: 1.4867 - val_accuracy: 0.7476\n",
      "Epoch 69/100\n",
      "38/38 [==============================] - 0s 4ms/step - loss: 0.2039 - accuracy: 0.9554 - val_loss: 1.3731 - val_accuracy: 0.7810\n",
      "Epoch 70/100\n",
      "38/38 [==============================] - 0s 3ms/step - loss: 0.1811 - accuracy: 0.9604 - val_loss: 1.2055 - val_accuracy: 0.7952\n",
      "Epoch 71/100\n",
      "38/38 [==============================] - 0s 3ms/step - loss: 0.1393 - accuracy: 0.9680 - val_loss: 1.2703 - val_accuracy: 0.7762\n",
      "Epoch 72/100\n",
      "38/38 [==============================] - 0s 5ms/step - loss: 0.0868 - accuracy: 0.9731 - val_loss: 1.4283 - val_accuracy: 0.7714\n",
      "Epoch 73/100\n",
      "38/38 [==============================] - 0s 8ms/step - loss: 0.0381 - accuracy: 0.9882 - val_loss: 1.2168 - val_accuracy: 0.8095\n",
      "Epoch 74/100\n",
      "38/38 [==============================] - 0s 7ms/step - loss: 0.0494 - accuracy: 0.9823 - val_loss: 1.5832 - val_accuracy: 0.7667\n",
      "Epoch 75/100\n",
      "38/38 [==============================] - 0s 5ms/step - loss: 0.0281 - accuracy: 0.9916 - val_loss: 1.4185 - val_accuracy: 0.7810\n",
      "Epoch 76/100\n",
      "38/38 [==============================] - 0s 5ms/step - loss: 0.0234 - accuracy: 0.9882 - val_loss: 1.4517 - val_accuracy: 0.8048\n",
      "Epoch 77/100\n",
      "38/38 [==============================] - 0s 9ms/step - loss: 0.0094 - accuracy: 0.9958 - val_loss: 1.4683 - val_accuracy: 0.8143\n",
      "Epoch 78/100\n",
      "38/38 [==============================] - 1s 19ms/step - loss: 0.0099 - accuracy: 0.9966 - val_loss: 1.4645 - val_accuracy: 0.8095\n",
      "Epoch 79/100\n",
      "38/38 [==============================] - 1s 14ms/step - loss: 0.0113 - accuracy: 0.9949 - val_loss: 1.4600 - val_accuracy: 0.8048\n",
      "Epoch 80/100\n",
      "38/38 [==============================] - 1s 19ms/step - loss: 0.0076 - accuracy: 0.9958 - val_loss: 1.4855 - val_accuracy: 0.7857\n",
      "Epoch 81/100\n",
      "38/38 [==============================] - 0s 7ms/step - loss: 0.0085 - accuracy: 0.9966 - val_loss: 1.4617 - val_accuracy: 0.7952\n",
      "Epoch 82/100\n",
      "38/38 [==============================] - 1s 17ms/step - loss: 0.0147 - accuracy: 0.9941 - val_loss: 1.4393 - val_accuracy: 0.8048\n",
      "Epoch 83/100\n",
      "38/38 [==============================] - 1s 21ms/step - loss: 0.0079 - accuracy: 0.9966 - val_loss: 1.4800 - val_accuracy: 0.7667\n",
      "Epoch 84/100\n",
      "38/38 [==============================] - 1s 30ms/step - loss: 0.0086 - accuracy: 0.9966 - val_loss: 1.5167 - val_accuracy: 0.7810\n",
      "Epoch 85/100\n",
      "38/38 [==============================] - 0s 8ms/step - loss: 0.0110 - accuracy: 0.9966 - val_loss: 1.5217 - val_accuracy: 0.7857\n",
      "Epoch 86/100\n",
      "38/38 [==============================] - 0s 6ms/step - loss: 0.0112 - accuracy: 0.9958 - val_loss: 1.5568 - val_accuracy: 0.7714\n",
      "Epoch 87/100\n",
      "38/38 [==============================] - 0s 6ms/step - loss: 0.0087 - accuracy: 0.9966 - val_loss: 1.5260 - val_accuracy: 0.7762\n",
      "Epoch 88/100\n",
      "38/38 [==============================] - 0s 7ms/step - loss: 0.0101 - accuracy: 0.9958 - val_loss: 1.5181 - val_accuracy: 0.7667\n",
      "Epoch 89/100\n",
      "38/38 [==============================] - 0s 6ms/step - loss: 0.0107 - accuracy: 0.9958 - val_loss: 1.5750 - val_accuracy: 0.7667\n",
      "Epoch 90/100\n",
      "38/38 [==============================] - 0s 7ms/step - loss: 0.0097 - accuracy: 0.9958 - val_loss: 1.5515 - val_accuracy: 0.7762\n",
      "Epoch 91/100\n",
      "38/38 [==============================] - 0s 6ms/step - loss: 0.0092 - accuracy: 0.9966 - val_loss: 1.5448 - val_accuracy: 0.7714\n",
      "Epoch 92/100\n",
      "38/38 [==============================] - 0s 7ms/step - loss: 0.0087 - accuracy: 0.9949 - val_loss: 1.5338 - val_accuracy: 0.7952\n",
      "Epoch 93/100\n",
      "38/38 [==============================] - 0s 6ms/step - loss: 0.0111 - accuracy: 0.9958 - val_loss: 1.5367 - val_accuracy: 0.7762\n",
      "Epoch 94/100\n",
      "38/38 [==============================] - 0s 7ms/step - loss: 0.0129 - accuracy: 0.9958 - val_loss: 1.5125 - val_accuracy: 0.7905\n",
      "Epoch 95/100\n",
      "38/38 [==============================] - 0s 6ms/step - loss: 0.0157 - accuracy: 0.9933 - val_loss: 1.5866 - val_accuracy: 0.7762\n",
      "Epoch 96/100\n",
      "38/38 [==============================] - 0s 6ms/step - loss: 0.0470 - accuracy: 0.9857 - val_loss: 1.5317 - val_accuracy: 0.7667\n",
      "Epoch 97/100\n",
      "38/38 [==============================] - 0s 8ms/step - loss: 0.1035 - accuracy: 0.9731 - val_loss: 1.6571 - val_accuracy: 0.7714\n",
      "Epoch 98/100\n",
      "38/38 [==============================] - 0s 6ms/step - loss: 1.2821 - accuracy: 0.8468 - val_loss: 3.1209 - val_accuracy: 0.6524\n",
      "Epoch 99/100\n",
      "38/38 [==============================] - 0s 7ms/step - loss: 1.0167 - accuracy: 0.8476 - val_loss: 2.7882 - val_accuracy: 0.7619\n",
      "Epoch 100/100\n",
      "38/38 [==============================] - 0s 6ms/step - loss: 0.7590 - accuracy: 0.8519 - val_loss: 1.3940 - val_accuracy: 0.7286\n"
     ]
    }
   ],
   "source": [
    "history = mlp.fit(X_train, y_train,  validation_split=0.15, epochs=100)\n",
    "result = mlp.evaluate(X_test, y_test, verbose=0)\n"
   ]
  },
  {
   "cell_type": "code",
   "execution_count": 137,
   "metadata": {},
   "outputs": [
    {
     "data": {
      "image/png": "[encoded data removed]",
      "text/plain": [
       "<Figure size 432x288 with 1 Axes>"
      ]
     },
     "metadata": {
      "needs_background": "light"
     },
     "output_type": "display_data"
    },
    {
     "data": {
      "image/png": "[encoded data removed]",
      "text/plain": [
       "<Figure size 432x288 with 1 Axes>"
      ]
     },
     "metadata": {
      "needs_background": "light"
     },
     "output_type": "display_data"
    },
    {
     "name": "stdout",
     "output_type": "stream",
     "text": [
      "test loss, test acc:  [1.1432640552520752, 0.7657142877578735]\n"
     ]
    }
   ],
   "source": [
    "plt.plot(history.history['accuracy'])\n",
    "plt.plot(history.history['val_accuracy'])\n",
    "plt.title('model accuracy')\n",
    "plt.ylabel('accuracy')\n",
    "plt.xlabel('epoch')\n",
    "plt.legend(['train', 'validation'])\n",
    "plt.show()\n",
    "# tsummarize history for loss\n",
    "plt.plot(history.history['loss'])\n",
    "plt.plot(history.history['val_loss'])\n",
    "plt.title('model loss')\n",
    "plt.ylabel('loss')\n",
    "plt.xlabel('epoch')\n",
    "plt.legend(['train', 'validation'])\n",
    "plt.show()\n",
    "\n",
    "print('test loss, test acc: ', result)"
   ]
  }
 ],
 "metadata": {
  "interpreter": {
   "hash": "9876caf22fac6903baacbe0a8f58a8890f88b0b07b3c2895f671e4bb121a2d71"
  },
  "kernelspec": {
   "display_name": "Python 3.8.10 64-bit",
   "language": "python",
   "name": "python3"
  },
  "language_info": {
   "codemirror_mode": {
    "name": "ipython",
    "version": 3
   },
   "file_extension": ".py",
   "mimetype": "text/x-python",
   "name": "python",
   "nbconvert_exporter": "python",
   "pygments_lexer": "ipython3",
   "version": "3.8.10"
  },
  "orig_nbformat": 4
 },
 "nbformat": 4,
 "nbformat_minor": 2
}
